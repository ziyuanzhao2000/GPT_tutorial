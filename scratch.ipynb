{
 "cells": [
  {
   "cell_type": "code",
   "execution_count": 1,
   "id": "af03c167",
   "metadata": {},
   "outputs": [
    {
     "name": "stdout",
     "output_type": "stream",
     "text": [
      "--2024-08-22 11:07:58--  https://raw.githubusercontent.com/karpathy/char-rnn/master/data/tinyshakespeare/input.txt\n",
      "Resolving raw.githubusercontent.com (raw.githubusercontent.com)... 185.199.110.133, 185.199.109.133, 185.199.108.133, ...\n",
      "Connecting to raw.githubusercontent.com (raw.githubusercontent.com)|185.199.110.133|:443... connected.\n",
      "HTTP request sent, awaiting response... 200 OK\n",
      "Length: 1115394 (1.1M) [text/plain]\n",
      "Saving to: ‘input.txt’\n",
      "\n",
      "input.txt           100%[===================>]   1.06M  --.-KB/s    in 0.08s   \n",
      "\n",
      "2024-08-22 11:07:58 (13.4 MB/s) - ‘input.txt’ saved [1115394/1115394]\n",
      "\n"
     ]
    }
   ],
   "source": [
    "# We always start with a dataset to train on. Let's download the tiny shakespeare dataset\n",
    "!wget https://raw.githubusercontent.com/karpathy/char-rnn/master/data/tinyshakespeare/input.txt"
   ]
  },
  {
   "cell_type": "code",
   "execution_count": 1,
   "id": "f72f0376",
   "metadata": {},
   "outputs": [],
   "source": [
    "# read it in to inspect it\n",
    "with open('input.txt', 'r', encoding='utf-8') as f:\n",
    "    text = f.read()"
   ]
  },
  {
   "cell_type": "code",
   "execution_count": 2,
   "id": "486b7b41",
   "metadata": {},
   "outputs": [
    {
     "name": "stdout",
     "output_type": "stream",
     "text": [
      "length of dataset in characters:  1115394\n"
     ]
    }
   ],
   "source": [
    "print(\"length of dataset in characters: \", len(text))"
   ]
  },
  {
   "cell_type": "code",
   "execution_count": 3,
   "id": "feac4146",
   "metadata": {},
   "outputs": [
    {
     "name": "stdout",
     "output_type": "stream",
     "text": [
      "First Citizen:\n",
      "Before we proceed any further, hear me speak.\n",
      "\n",
      "All:\n",
      "Speak, speak.\n",
      "\n",
      "First Citizen:\n",
      "You are all resolved rather to die than to famish?\n",
      "\n",
      "All:\n",
      "Resolved. resolved.\n",
      "\n",
      "First Citizen:\n",
      "First, you know Caius Marcius is chief enemy to the people.\n",
      "\n",
      "All:\n",
      "We know't, we know't.\n",
      "\n",
      "First Citizen:\n",
      "Let us kill him, and we'll have corn at our own price.\n",
      "Is't a verdict?\n",
      "\n",
      "All:\n",
      "No more talking on't; let it be done: away, away!\n",
      "\n",
      "Second Citizen:\n",
      "One word, good citizens.\n",
      "\n",
      "First Citizen:\n",
      "We are accounted poor citizens, the patricians good.\n",
      "What authority surfeits on would relieve us: if they\n",
      "would yield us but the superfluity, while it were\n",
      "wholesome, we might guess they relieved us humanely;\n",
      "but they think we are too dear: the leanness that\n",
      "afflicts us, the object of our misery, is as an\n",
      "inventory to particularise their abundance; our\n",
      "sufferance is a gain to them Let us revenge this with\n",
      "our pikes, ere we become rakes: for the gods know I\n",
      "speak this in hunger for bread, not in thirst for revenge.\n",
      "\n",
      "\n"
     ]
    }
   ],
   "source": [
    "# let's look at the first 1000 characters\n",
    "print(text[:1000])"
   ]
  },
  {
   "cell_type": "code",
   "execution_count": 4,
   "id": "a06fd4c4",
   "metadata": {},
   "outputs": [
    {
     "name": "stdout",
     "output_type": "stream",
     "text": [
      "\n",
      " !$&',-.3:;?ABCDEFGHIJKLMNOPQRSTUVWXYZabcdefghijklmnopqrstuvwxyz\n",
      "65\n"
     ]
    }
   ],
   "source": [
    "# here are all the unique characters that occur in this text\n",
    "chars = sorted(list(set(text)))\n",
    "vocab_size = len(chars)\n",
    "print(''.join(chars))\n",
    "print(vocab_size)"
   ]
  },
  {
   "cell_type": "code",
   "execution_count": 5,
   "id": "9716acf8",
   "metadata": {},
   "outputs": [
    {
     "name": "stdout",
     "output_type": "stream",
     "text": [
      "[46, 47, 47, 1, 58, 46, 43, 56, 43]\n",
      "hii there\n"
     ]
    }
   ],
   "source": [
    "# create a mapping from characters to integers\n",
    "stoi = { ch:i for i,ch in enumerate(chars) }\n",
    "itos = { i:ch for i,ch in enumerate(chars) }\n",
    "encode = lambda s: [stoi[c] for c in s] # encoder: take a string, output a list of integers\n",
    "decode = lambda l: ''.join([itos[i] for i in l]) # decoder: take a list of integers, output a string\n",
    "\n",
    "print(encode(\"hii there\"))\n",
    "print(decode(encode(\"hii there\")))"
   ]
  },
  {
   "cell_type": "markdown",
   "id": "abbdc21b",
   "metadata": {},
   "source": [
    "Google has a sub-word tokenizer called [Setence Piece](), OpenAI has [tiktoken](). \n"
   ]
  },
  {
   "cell_type": "code",
   "execution_count": 6,
   "id": "193b0894",
   "metadata": {
    "scrolled": true
   },
   "outputs": [
    {
     "name": "stdout",
     "output_type": "stream",
     "text": [
      "torch.Size([1115394]) torch.int64\n",
      "tensor([18, 47, 56, 57, 58,  1, 15, 47, 58, 47, 64, 43, 52, 10,  0, 14, 43, 44,\n",
      "        53, 56, 43,  1, 61, 43,  1, 54, 56, 53, 41, 43, 43, 42,  1, 39, 52, 63,\n",
      "         1, 44, 59, 56, 58, 46, 43, 56,  6,  1, 46, 43, 39, 56,  1, 51, 43,  1,\n",
      "        57, 54, 43, 39, 49,  8,  0,  0, 13, 50, 50, 10,  0, 31, 54, 43, 39, 49,\n",
      "         6,  1, 57, 54, 43, 39, 49,  8,  0,  0, 18, 47, 56, 57, 58,  1, 15, 47,\n",
      "        58, 47, 64, 43, 52, 10,  0, 37, 53, 59,  1, 39, 56, 43,  1, 39, 50, 50,\n",
      "         1, 56, 43, 57, 53, 50, 60, 43, 42,  1, 56, 39, 58, 46, 43, 56,  1, 58,\n",
      "        53,  1, 42, 47, 43,  1, 58, 46, 39, 52,  1, 58, 53,  1, 44, 39, 51, 47,\n",
      "        57, 46, 12,  0,  0, 13, 50, 50, 10,  0, 30, 43, 57, 53, 50, 60, 43, 42,\n",
      "         8,  1, 56, 43, 57, 53, 50, 60, 43, 42,  8,  0,  0, 18, 47, 56, 57, 58,\n",
      "         1, 15, 47, 58, 47, 64, 43, 52, 10,  0, 18, 47, 56, 57, 58,  6,  1, 63,\n",
      "        53, 59,  1, 49, 52, 53, 61,  1, 15, 39, 47, 59, 57,  1, 25, 39, 56, 41,\n",
      "        47, 59, 57,  1, 47, 57,  1, 41, 46, 47, 43, 44,  1, 43, 52, 43, 51, 63,\n",
      "         1, 58, 53,  1, 58, 46, 43,  1, 54, 43, 53, 54, 50, 43,  8,  0,  0, 13,\n",
      "        50, 50, 10,  0, 35, 43,  1, 49, 52, 53, 61,  5, 58,  6,  1, 61, 43,  1,\n",
      "        49, 52, 53, 61,  5, 58,  8,  0,  0, 18, 47, 56, 57, 58,  1, 15, 47, 58,\n",
      "        47, 64, 43, 52, 10,  0, 24, 43, 58,  1, 59, 57,  1, 49, 47, 50, 50,  1,\n",
      "        46, 47, 51,  6,  1, 39, 52, 42,  1, 61, 43,  5, 50, 50,  1, 46, 39, 60,\n",
      "        43,  1, 41, 53, 56, 52,  1, 39, 58,  1, 53, 59, 56,  1, 53, 61, 52,  1,\n",
      "        54, 56, 47, 41, 43,  8,  0, 21, 57,  5, 58,  1, 39,  1, 60, 43, 56, 42,\n",
      "        47, 41, 58, 12,  0,  0, 13, 50, 50, 10,  0, 26, 53,  1, 51, 53, 56, 43,\n",
      "         1, 58, 39, 50, 49, 47, 52, 45,  1, 53, 52,  5, 58, 11,  1, 50, 43, 58,\n",
      "         1, 47, 58,  1, 40, 43,  1, 42, 53, 52, 43, 10,  1, 39, 61, 39, 63,  6,\n",
      "         1, 39, 61, 39, 63,  2,  0,  0, 31, 43, 41, 53, 52, 42,  1, 15, 47, 58,\n",
      "        47, 64, 43, 52, 10,  0, 27, 52, 43,  1, 61, 53, 56, 42,  6,  1, 45, 53,\n",
      "        53, 42,  1, 41, 47, 58, 47, 64, 43, 52, 57,  8,  0,  0, 18, 47, 56, 57,\n",
      "        58,  1, 15, 47, 58, 47, 64, 43, 52, 10,  0, 35, 43,  1, 39, 56, 43,  1,\n",
      "        39, 41, 41, 53, 59, 52, 58, 43, 42,  1, 54, 53, 53, 56,  1, 41, 47, 58,\n",
      "        47, 64, 43, 52, 57,  6,  1, 58, 46, 43,  1, 54, 39, 58, 56, 47, 41, 47,\n",
      "        39, 52, 57,  1, 45, 53, 53, 42,  8,  0, 35, 46, 39, 58,  1, 39, 59, 58,\n",
      "        46, 53, 56, 47, 58, 63,  1, 57, 59, 56, 44, 43, 47, 58, 57,  1, 53, 52,\n",
      "         1, 61, 53, 59, 50, 42,  1, 56, 43, 50, 47, 43, 60, 43,  1, 59, 57, 10,\n",
      "         1, 47, 44,  1, 58, 46, 43, 63,  0, 61, 53, 59, 50, 42,  1, 63, 47, 43,\n",
      "        50, 42,  1, 59, 57,  1, 40, 59, 58,  1, 58, 46, 43,  1, 57, 59, 54, 43,\n",
      "        56, 44, 50, 59, 47, 58, 63,  6,  1, 61, 46, 47, 50, 43,  1, 47, 58,  1,\n",
      "        61, 43, 56, 43,  0, 61, 46, 53, 50, 43, 57, 53, 51, 43,  6,  1, 61, 43,\n",
      "         1, 51, 47, 45, 46, 58,  1, 45, 59, 43, 57, 57,  1, 58, 46, 43, 63,  1,\n",
      "        56, 43, 50, 47, 43, 60, 43, 42,  1, 59, 57,  1, 46, 59, 51, 39, 52, 43,\n",
      "        50, 63, 11,  0, 40, 59, 58,  1, 58, 46, 43, 63,  1, 58, 46, 47, 52, 49,\n",
      "         1, 61, 43,  1, 39, 56, 43,  1, 58, 53, 53,  1, 42, 43, 39, 56, 10,  1,\n",
      "        58, 46, 43,  1, 50, 43, 39, 52, 52, 43, 57, 57,  1, 58, 46, 39, 58,  0,\n",
      "        39, 44, 44, 50, 47, 41, 58, 57,  1, 59, 57,  6,  1, 58, 46, 43,  1, 53,\n",
      "        40, 48, 43, 41, 58,  1, 53, 44,  1, 53, 59, 56,  1, 51, 47, 57, 43, 56,\n",
      "        63,  6,  1, 47, 57,  1, 39, 57,  1, 39, 52,  0, 47, 52, 60, 43, 52, 58,\n",
      "        53, 56, 63,  1, 58, 53,  1, 54, 39, 56, 58, 47, 41, 59, 50, 39, 56, 47,\n",
      "        57, 43,  1, 58, 46, 43, 47, 56,  1, 39, 40, 59, 52, 42, 39, 52, 41, 43,\n",
      "        11,  1, 53, 59, 56,  0, 57, 59, 44, 44, 43, 56, 39, 52, 41, 43,  1, 47,\n",
      "        57,  1, 39,  1, 45, 39, 47, 52,  1, 58, 53,  1, 58, 46, 43, 51,  1, 24,\n",
      "        43, 58,  1, 59, 57,  1, 56, 43, 60, 43, 52, 45, 43,  1, 58, 46, 47, 57,\n",
      "         1, 61, 47, 58, 46,  0, 53, 59, 56,  1, 54, 47, 49, 43, 57,  6,  1, 43,\n",
      "        56, 43,  1, 61, 43,  1, 40, 43, 41, 53, 51, 43,  1, 56, 39, 49, 43, 57,\n",
      "        10,  1, 44, 53, 56,  1, 58, 46, 43,  1, 45, 53, 42, 57,  1, 49, 52, 53,\n",
      "        61,  1, 21,  0, 57, 54, 43, 39, 49,  1, 58, 46, 47, 57,  1, 47, 52,  1,\n",
      "        46, 59, 52, 45, 43, 56,  1, 44, 53, 56,  1, 40, 56, 43, 39, 42,  6,  1,\n",
      "        52, 53, 58,  1, 47, 52,  1, 58, 46, 47, 56, 57, 58,  1, 44, 53, 56,  1,\n",
      "        56, 43, 60, 43, 52, 45, 43,  8,  0,  0])\n"
     ]
    }
   ],
   "source": [
    "import torch \n",
    "data = torch.tensor(encode(text), dtype=torch.long)\n",
    "print(data.shape, data.dtype)\n",
    "print(data[:1000]) "
   ]
  },
  {
   "cell_type": "code",
   "execution_count": 7,
   "id": "82dc2285",
   "metadata": {},
   "outputs": [],
   "source": [
    "# Split the dataset\n",
    "n = int(0.9*len(data))\n",
    "train_data = data[:n]\n",
    "val_data = data[n:]"
   ]
  },
  {
   "cell_type": "code",
   "execution_count": 8,
   "id": "43a19504",
   "metadata": {},
   "outputs": [
    {
     "data": {
      "text/plain": [
       "tensor([18, 47, 56, 57, 58,  1, 15, 47, 58])"
      ]
     },
     "execution_count": 8,
     "metadata": {},
     "output_type": "execute_result"
    }
   ],
   "source": [
    "# Block size specifies the max length of consecutive tokens taken from the dataset for training\n",
    "block_size = 8\n",
    "train_data[:block_size+1]"
   ]
  },
  {
   "cell_type": "code",
   "execution_count": 9,
   "id": "9e39edf1",
   "metadata": {},
   "outputs": [
    {
     "name": "stdout",
     "output_type": "stream",
     "text": [
      "when input is tensor([18]) the target: 47\n",
      "when input is tensor([18, 47]) the target: 56\n",
      "when input is tensor([18, 47, 56]) the target: 57\n",
      "when input is tensor([18, 47, 56, 57]) the target: 58\n",
      "when input is tensor([18, 47, 56, 57, 58]) the target: 1\n",
      "when input is tensor([18, 47, 56, 57, 58,  1]) the target: 15\n",
      "when input is tensor([18, 47, 56, 57, 58,  1, 15]) the target: 47\n",
      "when input is tensor([18, 47, 56, 57, 58,  1, 15, 47]) the target: 58\n"
     ]
    }
   ],
   "source": [
    "x = train_data[:block_size]\n",
    "y = train_data[1:block_size+1]\n",
    "for t in range(block_size):\n",
    "    context = x[:t+1]\n",
    "    target = y[t]\n",
    "    print(f\"when input is {context} the target: {target}\")"
   ]
  },
  {
   "cell_type": "markdown",
   "id": "2030c01b",
   "metadata": {},
   "source": [
    "Note: For each block we take inputs of all lengths and ask the model to predict during training, this will help the transformer to get used to seeing the context, so that at inference time we can ask it to predict the next token, and concatenate it to the current output and repeat."
   ]
  },
  {
   "cell_type": "markdown",
   "id": "28c6655a",
   "metadata": {},
   "source": [
    "Next we generalize to make a batch of blocks of dimension X=[batch_size, block_size], y=[batch_size, block_size], such as `X[i, :]` is the ith block and for input `X[i, :j+1]` the target is `Y[i, j]`."
   ]
  },
  {
   "cell_type": "code",
   "execution_count": 10,
   "id": "5f20b3c0",
   "metadata": {
    "scrolled": true
   },
   "outputs": [
    {
     "name": "stdout",
     "output_type": "stream",
     "text": [
      "inputs:\n",
      "torch.Size([4, 8])\n",
      "tensor([[57,  1, 46, 47, 57,  1, 50, 53],\n",
      "        [ 1, 58, 46, 43, 56, 43,  1, 41],\n",
      "        [17, 26, 15, 17, 10,  0, 32, 53],\n",
      "        [57, 58,  6,  1, 61, 47, 58, 46]])\n",
      "targets:\n",
      "torch.Size([4, 8])\n",
      "tensor([[ 1, 46, 47, 57,  1, 50, 53, 60],\n",
      "        [58, 46, 43, 56, 43,  1, 41, 39],\n",
      "        [26, 15, 17, 10,  0, 32, 53,  1],\n",
      "        [58,  6,  1, 61, 47, 58, 46,  0]])\n",
      "----\n",
      "when input is [57] the target: 1\n",
      "when input is [57, 1] the target: 46\n",
      "when input is [57, 1, 46] the target: 47\n",
      "when input is [57, 1, 46, 47] the target: 57\n",
      "when input is [57, 1, 46, 47, 57] the target: 1\n",
      "when input is [57, 1, 46, 47, 57, 1] the target: 50\n",
      "when input is [57, 1, 46, 47, 57, 1, 50] the target: 53\n",
      "when input is [57, 1, 46, 47, 57, 1, 50, 53] the target: 60\n",
      "when input is [1] the target: 58\n",
      "when input is [1, 58] the target: 46\n",
      "when input is [1, 58, 46] the target: 43\n",
      "when input is [1, 58, 46, 43] the target: 56\n",
      "when input is [1, 58, 46, 43, 56] the target: 43\n",
      "when input is [1, 58, 46, 43, 56, 43] the target: 1\n",
      "when input is [1, 58, 46, 43, 56, 43, 1] the target: 41\n",
      "when input is [1, 58, 46, 43, 56, 43, 1, 41] the target: 39\n",
      "when input is [17] the target: 26\n",
      "when input is [17, 26] the target: 15\n",
      "when input is [17, 26, 15] the target: 17\n",
      "when input is [17, 26, 15, 17] the target: 10\n",
      "when input is [17, 26, 15, 17, 10] the target: 0\n",
      "when input is [17, 26, 15, 17, 10, 0] the target: 32\n",
      "when input is [17, 26, 15, 17, 10, 0, 32] the target: 53\n",
      "when input is [17, 26, 15, 17, 10, 0, 32, 53] the target: 1\n",
      "when input is [57] the target: 58\n",
      "when input is [57, 58] the target: 6\n",
      "when input is [57, 58, 6] the target: 1\n",
      "when input is [57, 58, 6, 1] the target: 61\n",
      "when input is [57, 58, 6, 1, 61] the target: 47\n",
      "when input is [57, 58, 6, 1, 61, 47] the target: 58\n",
      "when input is [57, 58, 6, 1, 61, 47, 58] the target: 46\n",
      "when input is [57, 58, 6, 1, 61, 47, 58, 46] the target: 0\n"
     ]
    }
   ],
   "source": [
    "torch.manual_seed(42)\n",
    "batch_size = 4 # how many independent sequences will we process in parallel?\n",
    "block_size = 8 # what is the maximum context length for predictions?\n",
    "\n",
    "def get_batch(split):\n",
    "    # generate a small batch of data of inputs x and targets y\n",
    "    data = train_data if split == 'train' else val_data\n",
    "    ix = torch.randint(len(data) - block_size, (batch_size,))\n",
    "    x = torch.stack([data[i:i+block_size] for i in ix])\n",
    "    y = torch.stack([data[i+1:i+block_size+1] for i in ix])\n",
    "    return x, y\n",
    "\n",
    "xb, yb = get_batch('train')\n",
    "print('inputs:')\n",
    "print(xb.shape)\n",
    "print(xb)\n",
    "print('targets:')\n",
    "print(yb.shape)\n",
    "print(yb)\n",
    "\n",
    "print('----')\n",
    "\n",
    "for b in range(batch_size): # batch dimension\n",
    "    for t in range(block_size): # time dimension\n",
    "        context = xb[b, :t+1]\n",
    "        target = yb[b,t]\n",
    "        print(f\"when input is {context.tolist()} the target: {target}\")"
   ]
  },
  {
   "cell_type": "code",
   "execution_count": 11,
   "id": "f2602f6c",
   "metadata": {},
   "outputs": [
    {
     "name": "stdout",
     "output_type": "stream",
     "text": [
      "tensor([[ 0.4224, -0.8596,  0.2910,  ...,  0.2380, -0.1270,  0.0534],\n",
      "        [ 0.8564,  2.2181,  0.5232,  ...,  0.4114,  1.9312,  1.0119],\n",
      "        [ 0.4851,  0.0060,  1.0007,  ..., -0.0776, -0.5015, -2.2270],\n",
      "        ...,\n",
      "        [-0.1726, -0.6626, -0.5495,  ..., -0.3630,  0.4550,  0.7595],\n",
      "        [ 1.0923, -1.3024,  1.3521,  ..., -0.2658, -1.4075, -0.7460],\n",
      "        [ 0.4851,  0.0060,  1.0007,  ..., -0.0776, -0.5015, -2.2270]],\n",
      "       grad_fn=<ViewBackward0>) tensor(4.8865, grad_fn=<NllLossBackward0>)\n"
     ]
    }
   ],
   "source": [
    "import torch\n",
    "import torch.nn as nn\n",
    "from torch.nn import functional as F\n",
    "torch.manual_seed(42)\n",
    "\n",
    "class BigramLanguageModel(nn.Module):\n",
    "\n",
    "    def __init__(self, vocab_size):\n",
    "        super().__init__()\n",
    "        self.token_embedding_table = nn.Embedding(vocab_size, vocab_size)\n",
    "        \n",
    "    def forward(self, idx, targets=None): # both idx and targets of shape [B, T, C]\n",
    "        logits = self.token_embedding_table(idx) # idx: [B, T] -> [B, T, C] because each element is mapped to a length C embedding\n",
    "        \n",
    "        if targets is None:\n",
    "            loss = None\n",
    "        else:\n",
    "            B, T, C = logits.shape\n",
    "            logits = logits.view(B*T, C)\n",
    "            targets = targets.view(B*T)\n",
    "            loss = F.cross_entropy(logits, targets) # cross ent in pytorch takes inputs with channel at the second dimension\n",
    "\n",
    "        return logits, loss\n",
    "    \n",
    "    def generate(self, idx, max_new_tokens):\n",
    "        for _ in range(max_new_tokens):\n",
    "            logits, loss = self(idx)\n",
    "            logits = logits[:, -1, :]\n",
    "            probs = F.softmax(logits, dim=-1)\n",
    "            idx_next = torch.multinomial(probs, num_samples=1) # sample rather than take max proba, interesting!\n",
    "            idx = torch.cat((idx, idx_next), dim=1) # extent in the time dimension (dim 1)\n",
    "        return idx\n",
    "m = BigramLanguageModel(vocab_size)\n",
    "logits, loss = m(xb, yb)\n",
    "print(logits, loss)"
   ]
  },
  {
   "cell_type": "markdown",
   "id": "fe3d4ba2",
   "metadata": {},
   "source": [
    "Note: the model as defined is indeed bigram model because it models the next token solely based on the last token via:\n",
    "```\n",
    "logits = self.token_embedding_table(idx)\n",
    "logits = logits[:, -1, :]\n",
    "probs = F.softmax(logits, dim=-1)\n",
    "```\n",
    "That is, given a sequence of token, only the embedding of the last one is directly used to compute the probability for generating the next token. There's no further association beyond that between each token (character) and its predecessor."
   ]
  },
  {
   "cell_type": "code",
   "execution_count": 12,
   "id": "f9d29592",
   "metadata": {},
   "outputs": [
    {
     "name": "stdout",
     "output_type": "stream",
     "text": [
      "\n",
      "o$,q&IWqW&xtCjaB?ij&bYRGkF?b; f ,CbwhtERCIfuWr,DzJERjhLlVaF&EjffPHDFcNoGIG'&$qXisWTkJPw\n",
      " ,b Xgx?D3sj\n"
     ]
    }
   ],
   "source": [
    "# use the initialized model to generate from an initial token (n_batch=1, n_token=1) 100 consecutive tokens\n",
    "print(decode(m.generate(idx = torch.zeros((1, 1), dtype=torch.long), max_new_tokens=100)[0].tolist()))\n"
   ]
  },
  {
   "cell_type": "markdown",
   "id": "f97c8353",
   "metadata": {},
   "source": [
    "Let's try training the model and see if the result would be better"
   ]
  },
  {
   "cell_type": "code",
   "execution_count": 13,
   "id": "4ccc3e97",
   "metadata": {},
   "outputs": [],
   "source": [
    "optimizer = torch.optim.AdamW(m.parameters(), lr=1e-3)"
   ]
  },
  {
   "cell_type": "code",
   "execution_count": 14,
   "id": "1818860a",
   "metadata": {},
   "outputs": [
    {
     "name": "stdout",
     "output_type": "stream",
     "text": [
      "2.5233194828033447\n"
     ]
    }
   ],
   "source": [
    "batch_size = 32\n",
    "for steps in range(10000): # increase number of steps for good results...\n",
    "\n",
    "    # sample a batch of data\n",
    "    xb, yb = get_batch('train')\n",
    "\n",
    "    # evaluate the loss\n",
    "    logits, loss = m(xb, yb)\n",
    "    optimizer.zero_grad(set_to_none=True)\n",
    "    loss.backward()\n",
    "    optimizer.step()\n",
    "\n",
    "print(loss.item())"
   ]
  },
  {
   "cell_type": "code",
   "execution_count": 15,
   "id": "b9598bea",
   "metadata": {},
   "outputs": [
    {
     "name": "stdout",
     "output_type": "stream",
     "text": [
      "\n",
      "QUDUThe chas.\n",
      "F lisen tabr:\n",
      "LI mus nk,\n",
      "A: al l ayo cenghe's therinvar,\n",
      "TEsen ithawaneit at islinerainy atsomo clour pad d wikn h,\n",
      "HYy my Tholes:\n",
      "it GBy ke m vilou xthazinderand llo chee lond Cld this lisesule wars, tirofof wnofan\n",
      "Rou cthe p.\n",
      "\n",
      "By hat celis ire m, aksthethe aur withAR wotoot.\n",
      "Toy:me, of Ithed; bo r:\n",
      "DWAy celowinoourne,\n",
      "WIDYoukesu t I:f fowhilong bert irw:\n",
      "I m;\n",
      "ADWhit hor hy t I nd, billexve, war t, s\n",
      "When re llyong thm ithinde!\n",
      "Whem mire ow\n",
      "MIAPet mad, trd br hay\n",
      "ANG w t we illlai\n"
     ]
    }
   ],
   "source": [
    "print(decode(m.generate(idx = torch.zeros((1, 1), dtype=torch.long), max_new_tokens=500)[0].tolist()))"
   ]
  },
  {
   "cell_type": "markdown",
   "id": "12ad7c69",
   "metadata": {},
   "source": [
    "This is still pretty garbage, less garbage I'd say than using 100 epochs, but very far from imiting Shakespeare's works!"
   ]
  },
  {
   "cell_type": "markdown",
   "id": "8fedbcdf",
   "metadata": {},
   "source": [
    "Note: To move beyond the bigram, we want tokens to \"talk\" to each other, namely, have information flow from earlier to later tokens in the sequence when predicting the next token. This introduces the self-attention mechanism.\n",
    "\n",
    "The simplest interaction would be at each position, take the average of all token embeddings before and use that as the context for the current token position, but this is extremely noisy."
   ]
  },
  {
   "cell_type": "code",
   "execution_count": 16,
   "id": "bf9fe926",
   "metadata": {},
   "outputs": [
    {
     "data": {
      "text/plain": [
       "torch.Size([4, 8, 2])"
      ]
     },
     "execution_count": 16,
     "metadata": {},
     "output_type": "execute_result"
    }
   ],
   "source": [
    "torch.manual_seed(42)\n",
    "B,T,C = 4,8,2\n",
    "x = torch.randn(B,T,C)\n",
    "x.shape"
   ]
  },
  {
   "cell_type": "code",
   "execution_count": 18,
   "id": "3d403ee9",
   "metadata": {},
   "outputs": [],
   "source": [
    "xbow = torch.zeros((B,T,C))\n",
    "for b in range(B):\n",
    "    for t in range(T):\n",
    "        xprev = x[b, :t+1]\n",
    "        xbow[b, t] = torch.mean(xprev, 0)"
   ]
  },
  {
   "cell_type": "code",
   "execution_count": 19,
   "id": "7a52a9f2",
   "metadata": {},
   "outputs": [
    {
     "data": {
      "text/plain": [
       "tensor([[1.0000, 0.0000, 0.0000, 0.0000, 0.0000, 0.0000, 0.0000, 0.0000],\n",
       "        [0.5000, 0.5000, 0.0000, 0.0000, 0.0000, 0.0000, 0.0000, 0.0000],\n",
       "        [0.3333, 0.3333, 0.3333, 0.0000, 0.0000, 0.0000, 0.0000, 0.0000],\n",
       "        [0.2500, 0.2500, 0.2500, 0.2500, 0.0000, 0.0000, 0.0000, 0.0000],\n",
       "        [0.2000, 0.2000, 0.2000, 0.2000, 0.2000, 0.0000, 0.0000, 0.0000],\n",
       "        [0.1667, 0.1667, 0.1667, 0.1667, 0.1667, 0.1667, 0.0000, 0.0000],\n",
       "        [0.1429, 0.1429, 0.1429, 0.1429, 0.1429, 0.1429, 0.1429, 0.0000],\n",
       "        [0.1250, 0.1250, 0.1250, 0.1250, 0.1250, 0.1250, 0.1250, 0.1250]])"
      ]
     },
     "execution_count": 19,
     "metadata": {},
     "output_type": "execute_result"
    }
   ],
   "source": [
    "# do the above with matrix multiplication with normalized tril matrix\n",
    "wei = torch.tril(torch.ones(T, T))\n",
    "wei = wei/wei.sum(1, keepdims=True)\n",
    "wei"
   ]
  },
  {
   "cell_type": "code",
   "execution_count": 20,
   "id": "fd806c24",
   "metadata": {},
   "outputs": [
    {
     "data": {
      "text/plain": [
       "True"
      ]
     },
     "execution_count": 20,
     "metadata": {},
     "output_type": "execute_result"
    }
   ],
   "source": [
    "xbow2 = wei @ x \n",
    "torch.allclose(xbow, xbow2)"
   ]
  },
  {
   "cell_type": "code",
   "execution_count": 23,
   "id": "a22d41d0",
   "metadata": {},
   "outputs": [
    {
     "data": {
      "text/plain": [
       "tensor([[1.0000, 0.0000, 0.0000, 0.0000, 0.0000, 0.0000, 0.0000, 0.0000],\n",
       "        [0.5000, 0.5000, 0.0000, 0.0000, 0.0000, 0.0000, 0.0000, 0.0000],\n",
       "        [0.3333, 0.3333, 0.3333, 0.0000, 0.0000, 0.0000, 0.0000, 0.0000],\n",
       "        [0.2500, 0.2500, 0.2500, 0.2500, 0.0000, 0.0000, 0.0000, 0.0000],\n",
       "        [0.2000, 0.2000, 0.2000, 0.2000, 0.2000, 0.0000, 0.0000, 0.0000],\n",
       "        [0.1667, 0.1667, 0.1667, 0.1667, 0.1667, 0.1667, 0.0000, 0.0000],\n",
       "        [0.1429, 0.1429, 0.1429, 0.1429, 0.1429, 0.1429, 0.1429, 0.0000],\n",
       "        [0.1250, 0.1250, 0.1250, 0.1250, 0.1250, 0.1250, 0.1250, 0.1250]])"
      ]
     },
     "execution_count": 23,
     "metadata": {},
     "output_type": "execute_result"
    }
   ],
   "source": [
    "# a third way uses softmax, noting that exp(-inf) = 0 and exp(0) = 1\n",
    "tril = torch.tril(torch.ones(T, T))\n",
    "wei = torch.zeros((T, T))\n",
    "# token cannot aggregate with those from the future, interaction strength = -inf\n",
    "wei = wei.masked_fill(tril==0, float('-inf')) \n",
    "wei = F.softmax(wei, dim=-1)\n",
    "wei"
   ]
  },
  {
   "cell_type": "markdown",
   "id": "6240a096",
   "metadata": {},
   "source": [
    "For the actual attention mechanism, we will not start from a uniform weight matrix. Rather, for each token we produce a key and query, the key describes what information the token contains and the query represents what information the token is seeking when aggregating from tokens before it. These two will result from a simple linear transformation from the token embeddings. For each token, the weight given to tokens before results from using queries to search for keys implemented by a dot product. Thus, if the query of the token is similar to the key of some token before it, that will result in a high weight for that earlier token position."
   ]
  },
  {
   "cell_type": "code",
   "execution_count": 25,
   "id": "04c99455",
   "metadata": {},
   "outputs": [],
   "source": [
    "head_size = 16\n",
    "key = nn.Linear(C, head_size, bias=False)\n",
    "query = nn.Linear(C, head_size, bias=False)\n",
    "k = key(x)\n",
    "q = query(x)\n",
    "wei = q @ k.transpose(-2, -1)"
   ]
  },
  {
   "cell_type": "markdown",
   "id": "4f7274a8",
   "metadata": {},
   "source": [
    "The final modification is that instead of aggregating the token embeddings, we also linear transform these embeddings into \"values\". In this way, we consider the token embedding to be private information to that token, whereas the value to be public information that are shared when computing the aggregate token at other positions."
   ]
  },
  {
   "cell_type": "code",
   "execution_count": 28,
   "id": "41ed1937",
   "metadata": {},
   "outputs": [
    {
     "data": {
      "text/plain": [
       "torch.Size([4, 8, 16])"
      ]
     },
     "execution_count": 28,
     "metadata": {},
     "output_type": "execute_result"
    }
   ],
   "source": [
    "value = nn.Linear(C, head_size, bias=False)\n",
    "v = value(x)\n",
    "out = wei @ v\n",
    "out.shape"
   ]
  },
  {
   "cell_type": "markdown",
   "id": "1713f87e",
   "metadata": {},
   "source": [
    "Notes:\n",
    "* Attention mechanism is a communication mechanism that can be applied to any directed graphs, and for language modeling only a very special structure is used. In encoder architectures, all nodes connect to one another; in decoder architectures we use a lower triangular mask so only earlier nodes connect to later nodes.\n",
    "* There's no sense of space for the tokens compared to the convolutional mechanism, and that must be encoded use some spatial encoding.\n",
    "* Computation is independent in each element along the batch dimension.\n",
    "* In general cross attention is used when we want to pull information from an additional set of source nodes, such that we can use different set of nodes to compute keys and queries vs. values."
   ]
  },
  {
   "cell_type": "markdown",
   "id": "06a30373",
   "metadata": {},
   "source": [
    "Next for multihead attention, we make several heads that take the same tokens but use different key, query, and value transformations, and the output tokens from each head are concatenated and projected down to the original embedding dimension."
   ]
  },
  {
   "cell_type": "markdown",
   "id": "b28dd737",
   "metadata": {},
   "source": [
    "The next step is to add a per-token feedforward network after the attention. If the attention allows the token to talk to each other and transform the embeddings collectively, the feedforward layer let each token \"reflect\" on what they have learned."
   ]
  },
  {
   "cell_type": "markdown",
   "id": "176168e2",
   "metadata": {},
   "source": [
    "We also interleave several blocks of self-attention and feedforward layers to further improve the model performance. To overcome optimization issues with deep neural nets, we use tricks like residual connections,layer normalization and dropouts.\n",
    "\n",
    "Layer norm: compared to batch norm, we normalize each dimension of the feature such that after normalization the feature components are about unit gaussian distributed (zero mean, unit variance) for each example in the batch."
   ]
  },
  {
   "cell_type": "markdown",
   "id": "cb49e668",
   "metadata": {},
   "source": [
    "### Fun project: let the transformer learn to add (in decimal)"
   ]
  },
  {
   "cell_type": "code",
   "execution_count": 95,
   "id": "60b36a74",
   "metadata": {},
   "outputs": [],
   "source": [
    "import numpy as np\n",
    "import torch\n",
    "from torch.utils.data import Dataset, DataLoader\n",
    "\n",
    "block_size = 9\n",
    "chars = [str(i) for i in range(10)] + ['+', '=', ' ']\n",
    "vocab_size = len(chars)\n",
    "stoi = { ch:i for i,ch in enumerate(chars) }\n",
    "itos = { i:ch for i,ch in enumerate(chars) }\n",
    "itos[-1] = '*'\n",
    "encode = lambda s: [stoi[c] for c in s]\n",
    "decode = lambda l: ''.join([itos[i] for i in l])\n",
    "\n",
    "\n",
    "class AdditionProblems(Dataset):\n",
    "    def __init__(self, size=1000):\n",
    "        self.size = size\n",
    "        np.random.seed(42)\n",
    "\n",
    "    def __len__(self):\n",
    "        return self.size\n",
    "\n",
    "    def __getitem__(self, index):\n",
    "        a = np.random.randint(100)\n",
    "        b = np.random.randint(100)\n",
    "        prob = f'{a:2}+{b:2}={str(a+b)[::-1]:4}'\n",
    "        mask = None\n",
    "        return encode(prob)"
   ]
  },
  {
   "cell_type": "code",
   "execution_count": 73,
   "id": "59cc3e04",
   "metadata": {},
   "outputs": [
    {
     "data": {
      "text/plain": [
       "[1, 2, 3]"
      ]
     },
     "execution_count": 73,
     "metadata": {},
     "output_type": "execute_result"
    }
   ],
   "source": [
    "encode('123')"
   ]
  },
  {
   "cell_type": "code",
   "execution_count": 74,
   "id": "84654c2d",
   "metadata": {},
   "outputs": [
    {
     "data": {
      "text/plain": [
       "[5, 1, 10, 9, 2, 11, 3, 4, 1, 12]"
      ]
     },
     "execution_count": 74,
     "metadata": {},
     "output_type": "execute_result"
    }
   ],
   "source": [
    "add_probs = AdditionProblems(1000)\n",
    "add_probs.__getitem__(2)"
   ]
  },
  {
   "cell_type": "code",
   "execution_count": 61,
   "id": "5d70df45",
   "metadata": {
    "collapsed": true
   },
   "outputs": [
    {
     "name": "stdout",
     "output_type": "stream",
     "text": [
      "32 ['60+20=08 ', '82+86=861', '74+74=841', '87+99=681', '23+ 2=52 ', '21+52=37 ', ' 1+87=88 ', '29+37=66 ', ' 1+63=46 ', '59+20=97 ', '32+75=701', '57+21=87 ', '88+48=631', '90+58=841', '41+91=231', '59+79=831', '14+61=57 ', '61+46=701', '61+50=111', '54+63=711', ' 2+50=25 ', ' 6+20=62 ', '72+38=011', '17+ 3=02 ', '88+59=741', '13+ 8=12 ', '89+52=141', ' 1+83=48 ', '91+59=051', '70+43=311', ' 7+46=35 ', '34+77=111']\n",
      "32 ['80+35=511', '49+ 3=25 ', ' 1+ 5=6  ', '53+ 3=65 ', '53+92=541', '62+17=97 ', '89+43=231', '33+73=601', '61+99=061', '13+94=701', '47+14=16 ', '71+77=841', '86+61=741', '39+84=321', '79+81=061', '52+23=57 ', '25+88=311', '59+40=99 ', '28+14=24 ', '44+64=801', '88+70=851', ' 8+87=59 ', ' 0+ 7=7  ', '87+62=941', '10+80=09 ', ' 7+34=14 ', '34+32=66 ', ' 4+40=44 ', '27+ 6=33 ', '72+71=341', '11+33=44 ', '32+47=97 ']\n",
      "32 ['22+61=38 ', '87+36=321', '98+43=141', '85+90=571', '34+64=89 ', '98+46=441', '77+ 2=97 ', ' 0+ 4=4  ', '89+13=201', '26+ 8=43 ', '78+14=29 ', '89+41=031', '76+50=621', '62+95=751', '51+95=641', ' 3+93=69 ', '22+14=63 ', '42+28=07 ', '35+12=74 ', '31+70=101', '58+85=341', '27+65=29 ', '41+44=58 ', '61+56=711', ' 5+27=23 ', '27+43=07 ', '83+29=211', '61+74=531', '91+88=971', '61+96=751', ' 0+26=62 ', '61+76=731']\n",
      "32 [' 2+69=17 ', '71+26=79 ', ' 8+61=96 ', '36+96=231', '50+43=39 ', '23+78=101', '58+31=98 ', '95+87=281', '51+61=211', '57+51=801', '11+38=94 ', ' 1+ 2=3  ', '55+80=531', '58+ 1=95 ', ' 1+91=29 ', '53+86=931', '95+96=191', ' 0+18=81 ', ' 1+52=35 ', '43+89=231', '31+69=001', '31+67=89 ', '54+74=821', '55+16=17 ', '37+23=06 ', '68+97=561', '69+85=451', '10+15=52 ', '96+72=861', '58+69=721', '79+92=171', ' 2+19=12 ']\n",
      "32 ['58+35=39 ', '18+89=701', '66+18=48 ', '19+95=411', '70+51=121', '32+39=17 ', '38+81=911', ' 0+10=01 ', '91+56=741', '88+49=731', '22+30=25 ', '93+41=431', '98+ 6=401', '15+89=401', '59+ 1=06 ', ' 0+47=74 ', '11+68=97 ', '36+31=76 ', ' 8+98=601', '18+47=56 ', '79+ 2=18 ', '19+23=24 ', '53+32=58 ', '23+74=79 ', '71+35=601', '37+83=021', '98+88=681', '98+24=221', '92+17=901', '81+65=641', '53+34=78 ', '79+60=931']\n",
      "32 ['40+99=931', '32+67=99 ', '32+13=54 ', '20+47=76 ', '19+ 7=62 ', ' 6+66=27 ', '16+32=84 ', '47+75=221', '58+85=341', '21+29=05 ', '37+50=78 ', '53+ 7=06 ', '26+26=25 ', '97+20=711', '29+96=521', '27+63=09 ', '96+68=461', '60+47=701', '18+ 3=12 ', '34+63=79 ', '48+16=46 ', '43+91=431', '29+92=121', '45+ 5=05 ', '98+36=431', '23+92=511', '45+52=79 ', '94+98=291', '59+96=551', '62+84=641', '31+86=711', '32+66=89 ']\n",
      "32 ['17+24=14 ', '94+53=741', '57+66=321', '45+23=86 ', '31+46=77 ', '85+22=701', '65+26=19 ', ' 1+89=09 ', '16+32=84 ', ' 8+42=05 ', '47+38=58 ', '92+41=331', '25+98=321', '49+24=37 ', '23+12=53 ', '59+ 6=56 ', '56+35=19 ', '44+19=36 ', '64+ 7=17 ', '15+13=82 ', '75+86=161', '14+91=501', '97+65=261', '31+86=711', '62+85=741', '50+24=47 ', '57+62=911', '61+21=28 ', '57+57=411', '85+48=331', '51+41=29 ', '69+14=38 ']\n",
      "32 ['53+59=211', '96+ 7=301', '52+59=111', ' 4+67=17 ', ' 5+95=001', '93+46=931', '98+54=251', '39+51=09 ', '15+12=72 ', '29+18=74 ', '16+62=87 ', '18+91=901', '57+54=111', '89+89=871', '61+22=38 ', ' 8+11=91 ', ' 0+57=75 ', ' 0+33=33 ', '95+47=241', '88+ 0=88 ', '15+60=57 ', '63+62=521', '68+21=98 ', '92+66=851', '75+25=001', '15+50=56 ', '85+56=141', '28+77=501', '91+68=951', '46+93=931', '61+68=921', '75+15=09 ']\n",
      "32 ['89+89=871', '47+84=131', '38+99=731', '32+93=521', '22+ 9=13 ', '68+99=761', '33+51=48 ', '94+ 9=301', '18+57=57 ', '95+ 0=59 ', '68+ 3=17 ', '15+23=83 ', '79+ 1=08 ', '91+31=221', '90+83=371', '23+11=43 ', '49+34=38 ', '32+32=46 ', '60+50=011', '42+11=35 ', '66+64=031', '32+39=17 ', '73+42=511', '43+28=17 ', '12+11=32 ', '94+45=931', ' 1+34=53 ', '86+80=661', '89+ 7=69 ', '92+25=711', '73+89=261', '33+ 6=93 ']\n",
      "32 ['67+57=421', '74+28=201', '35+88=321', '20+35=55 ', ' 9+72=18 ', '23+63=68 ', '98+48=641', '98+35=331', '81+95=671', '23+22=54 ', '61+95=651', '36+11=74 ', '54+12=66 ', '22+88=011', '98+29=721', '16+61=77 ', '83+88=171', '85+12=79 ', '58+18=67 ', '48+99=741', '11+60=17 ', '18+75=39 ', ' 8+70=87 ', '27+77=401', '94+51=541', '82+15=79 ', '68+98=661', '11+24=53 ', '51+84=531', '99+52=151', '22+15=73 ', '56+38=49 ']\n",
      "32 ['52+41=39 ', '57+38=59 ', '13+94=701', ' 4+34=83 ', '86+92=871', '74+17=19 ', '75+ 8=38 ', '73+57=031', '16+ 6=22 ', '45+12=75 ', '39+41=08 ', ' 8+49=75 ', '26+65=19 ', ' 4+28=23 ', '36+37=37 ', '82+ 7=98 ', '64+85=941', '16+70=68 ', '88+44=231', ' 3+35=83 ', '69+30=99 ', '18+60=87 ', '53+38=19 ', '90+73=361', '89+18=701', '38+66=401', '44+12=65 ', '91+57=841', '19+91=011', '71+60=131', '38+ 0=83 ', ' 2+76=87 ']\n",
      "32 ['91+61=251', '62+24=68 ', '55+32=78 ', '37+ 5=24 ', '57+43=001', '44+31=57 ', '44+60=401', '46+20=66 ', '79+84=361', '74+35=901', '98+18=611', '19+56=57 ', '17+46=36 ', '48+13=16 ', '14+30=44 ', ' 0+53=35 ', ' 2+15=71 ', '86+56=241', '74+11=58 ', '73+95=861', '15+71=68 ', '75+23=89 ', '27+ 7=43 ', '91+35=621', '89+ 7=69 ', '57+59=611', '49+27=67 ', '91+40=131', '99+63=261', '26+62=88 ', '16+72=88 ', '32+83=511']\n",
      "32 ['76+91=761', '28+12=04 ', '45+34=97 ', ' 5+81=68 ', '68+46=411', '24+65=98 ', ' 9+55=46 ', '29+ 4=33 ', '32+64=69 ', '17+95=211', '48+10=85 ', '84+25=901', '62+88=051', '85+58=341', '26+48=47 ', '76+32=801', '97+98=591', ' 0+20=02 ', '54+ 5=95 ', '91+80=171', '68+94=261', ' 4+ 2=6  ', '52+22=47 ', '52+36=88 ', '73+73=641', '82+16=89 ', '84+77=161', '72+ 0=27 ', '50+44=49 ', '76+ 3=97 ', '61+64=521', '31+33=46 ']\n",
      "32 ['91+94=581', '71+38=901', '25+33=85 ', '53+ 2=55 ', '49+11=06 ', '64+53=711', ' 4+93=79 ', '93+56=941', '16+46=26 ', '22+78=001', '84+13=79 ', '65+74=931', '50+37=78 ', '63+97=061', '37+49=68 ', '97+81=871', '29+78=701', '90+50=041', '62+97=951', '51+37=88 ', '96+87=381', '78+29=701', '50+80=031', ' 4+28=23 ', ' 3+ 9=21 ', '55+16=17 ', '73+16=98 ', '83+87=071', '68+33=101', ' 5+52=75 ', '65+76=141', '42+74=611']\n",
      "32 ['22+54=67 ', '79+94=371', '74+15=98 ', ' 7+ 3=01 ', ' 3+55=85 ', '24+66=09 ', '95+66=161', '26+92=811', '31+49=08 ', '60+50=011', '18+20=83 ', ' 4+81=58 ', '91+41=231', '60+21=18 ', '20+69=98 ', ' 0+ 4=4  ', '11+89=001', '45+33=87 ', '48+77=521', '89+44=331', '26+72=89 ', '25+46=17 ', '85+55=041', '93+62=551', '47+60=701', '80+25=501', '35+ 0=53 ', ' 7+98=501', '51+78=921', '46+55=101', '85+13=89 ', '89+27=611']\n",
      "32 ['86+77=361', '87+ 1=88 ', '25+13=83 ', '58+55=311', ' 6+ 2=8  ', '22+17=93 ', '37+98=531', '14+63=77 ', '88+27=511', '73+38=111', '56+16=27 ', '85+89=471', '43+24=76 ', '16+12=82 ', '83+24=701', '67+ 9=67 ', '66+17=38 ', '99+85=481', '33+ 7=04 ', '39+82=121', '41+40=18 ', ' 5+51=65 ', '25+63=88 ', '97+58=551', '55+58=311', '69+32=101', '52+21=37 ', '20+69=98 ', '69+ 3=27 ', '93+74=761', '61+61=221', '93+94=781']\n",
      "32 ['23+54=77 ', ' 8+ 2=01 ', '30+39=96 ', '35+23=85 ', '94+ 5=99 ', '65+83=841', '91+74=561', ' 3+78=18 ', ' 5+93=89 ', '50+61=111', '56+65=121', '78+74=251', ' 7+25=23 ', '50+44=49 ', '43+ 4=74 ', '69+25=49 ', '67+18=58 ', '83+96=971', '19+11=03 ', '46+ 0=64 ', '89+13=201', '63+37=001', '36+10=64 ', '99+76=571', ' 2+32=43 ', ' 5+49=45 ', ' 9+ 4=31 ', '22+ 9=13 ', '43+ 1=44 ', '12+39=15 ', ' 1+83=48 ', '64+62=621']\n",
      "32 ['72+16=88 ', ' 8+74=28 ', '14+23=73 ', '37+34=17 ', '93+94=781', '48+68=611', '61+59=021', '49+77=621', '74+ 8=28 ', '33+75=801', '98+34=231', ' 0+39=93 ', '63+21=48 ', '59+63=221', '92+71=361', '10+13=32 ', '59+29=88 ', '34+84=811', '36+ 4=04 ', '82+77=951', '25+61=68 ', ' 3+88=19 ', '41+88=921', '17+39=65 ', '71+38=901', '13+31=44 ', '50+37=78 ', '96+22=811', '62+14=67 ', '96+24=021', '16+96=211', '65+77=241']\n",
      "32 ['52+50=201', '38+50=88 ', '69+ 5=47 ', '66+ 6=27 ', '50+71=121', '41+63=401', '14+28=24 ', '32+93=521', '26+35=16 ', '28+37=56 ', '56+96=251', '26+54=08 ', '32+67=99 ', '85+65=051', ' 9+ 4=31 ', '73+96=961', '37+12=94 ', '30+46=67 ', '99+87=681', '51+55=601', '14+28=24 ', ' 7+ 4=11 ', '28+46=47 ', '67+75=241', '44+ 1=54 ', '26+94=021', '35+35=07 ', '25+42=76 ', '26+68=49 ', '19+10=92 ', '73+37=011', ' 5+71=67 ']\n",
      "32 ['22+46=86 ', '89+45=431', '11+89=001', '12+61=37 ', '81+88=961', '96+59=551', '42+75=711', '99+67=661', ' 4+36=04 ', '71+91=261', '30+ 8=83 ', '50+28=87 ', '77+39=611', '40+85=521', '10+22=23 ', ' 0+45=54 ', '20+89=901', '35+53=88 ', '86+56=241', ' 0+62=26 ', '53+54=701', '39+14=35 ', '20+46=66 ', '72+52=421', ' 8+73=18 ', '51+56=701', '25+40=56 ', '34+62=69 ', '24+89=311', '74+37=111', ' 1+ 6=7  ', '81+90=171']\n",
      "32 ['33+90=321', '16+42=85 ', '58+50=801', '53+23=67 ', '24+70=49 ', '51+69=021', '87+32=911', '48+28=67 ', '62+21=38 ', '25+27=25 ', '84+48=231', '70+80=051', '83+48=131', '19+85=401', '91+62=351', '60+48=801', '70+ 0=07 ', '95+12=701', '93+86=971', '50+55=501', '82+61=341', '31+29=06 ', '28+48=67 ', '44+92=631', '29+15=44 ', '39+18=75 ', '17+ 0=71 ', '77+46=321', '65+91=651', '93+37=031', '50+62=211', ' 3+ 0=3  ']\n",
      "32 [' 7+28=53 ', '54+ 2=65 ', '31+ 9=04 ', '73+82=551', '33+96=921', '86+54=041', '91+31=221', '49+ 6=55 ', '92+ 7=99 ', '64+56=021', '66+87=351', '86+58=441', '71+53=421', '66+50=611', '96+91=781', ' 7+33=04 ', '34+95=921', '87+77=461', '31+45=67 ', '15+67=28 ', '36+53=98 ', '84+13=79 ', '94+54=841', '47+81=821', ' 6+73=97 ', ' 6+32=83 ', '22+84=601', '18+18=63 ', '35+28=36 ', '59+81=041', ' 1+ 0=1  ', '46+68=411']\n",
      "32 ['19+10=92 ', ' 1+66=76 ', '86+11=79 ', '19+ 4=32 ', '36+37=37 ', '93+ 8=101', '97+52=941', '43+98=141', '85+23=801', '80+73=351', '29+58=78 ', '86+95=181', '80+80=061', '13+ 8=12 ', '39+65=401', '24+72=69 ', '21+ 3=42 ', '25+57=28 ', '28+97=521', '86+36=221', '74+69=341', '17+84=101', '41+99=041', '40+37=77 ', '33+16=94 ', '36+24=06 ', '75+86=161', '85+84=961', '26+56=28 ', '30+ 5=53 ', '90+39=921', '97+11=801']\n",
      "32 ['52+70=221', ' 9+44=35 ', '16+25=14 ', '84+91=571', '61+45=601', '63+ 1=46 ', '53+64=711', '50+52=201', '35+25=06 ', '28+20=84 ', '10+39=94 ', '10+35=54 ', '58+38=69 ', '98+53=151', '97+54=151', '23+21=44 ', '68+55=321', '32+35=76 ', '19+82=101', '98+80=871', '61+97=851', '72+25=79 ', '65+72=731', '72+39=111', '16+ 0=61 ', '88+60=841', '42+41=38 ', '24+38=26 ', '34+ 2=63 ', '43+50=39 ', '93+97=091', '11+18=92 ']\n",
      "32 ['43+58=101', '48+60=801', '16+73=98 ', '56+54=011', '46+11=75 ', '61+79=041', '87+82=961', ' 7+94=101', '20+80=001', '86+79=561', '69+71=041', '24+81=501', '88+11=99 ', '14+58=27 ', '25+25=05 ', '46+31=77 ', ' 9+15=42 ', '70+16=68 ', '22+25=74 ', '84+85=961', ' 6+13=91 ', '78+ 6=48 ', ' 8+47=55 ', '71+58=921', '86+92=871', '81+94=571', '93+38=131', '98+17=511', '58+16=47 ', '13+30=34 ', '23+98=121', '59+44=301']\n",
      "32 ['97+ 2=99 ', '36+42=87 ', '39+89=821', '54+86=041', '38+14=25 ', ' 3+92=59 ', '85+24=901', '12+81=39 ', '32+15=74 ', '41+65=601', '54+98=251', '41+33=47 ', '29+12=14 ', '12+17=92 ', '31+95=621', '98+38=631', '45+28=37 ', '61+92=351', '61+56=711', '15+55=07 ', ' 9+29=83 ', '24+83=701', ' 4+64=86 ', '93+48=141', ' 2+44=64 ', '13+29=24 ', '67+17=48 ', '61+36=79 ', '24+47=17 ', '64+52=611', '78+72=051', '14+48=26 ']\n",
      "32 ['87+67=451', '11+58=96 ', '36+60=69 ', '42+69=111', '38+55=39 ', '62+45=701', '87+10=79 ', '61+76=731', '97+24=121', '70+51=121', ' 3+58=16 ', '71+19=09 ', '92+62=451', '53+73=621', '97+56=351', '89+40=921', ' 2+ 5=7  ', ' 4+ 4=8  ', '53+46=99 ', '86+48=431', ' 8+98=601', '19+60=97 ', '34+49=38 ', '81+61=241', '16+87=301', ' 2+31=33 ', '98+12=011', '88+72=061', '67+13=08 ', '97+10=701', '55+66=121', '91+28=911']\n",
      "32 [' 8+66=47 ', '24+97=121', '75+41=611', ' 8+78=68 ', '39+24=36 ', ' 4+10=41 ', '58+97=551', '87+78=561', '37+71=801', ' 4+47=15 ', '89+17=601', '69+36=501', '59+47=601', '76+27=301', '68+76=441', '80+39=911', '44+95=931', '61+92=351', '57+66=321', '55+39=49 ', '97+39=631', '90+76=661', '32+ 5=73 ', '87+18=501', '79+39=811', '91+96=781', '58+58=611', '47+40=78 ', '12+44=65 ', '88+52=041', '41+99=041', '62+26=88 ']\n",
      "32 ['37+59=69 ', ' 6+ 4=01 ', '44+57=101', '30+22=25 ', '41+ 9=05 ', '31+52=38 ', '29+38=76 ', '30+81=111', '99+ 1=001', '77+76=351', '92+11=301', '38+65=301', '95+12=701', '45+26=17 ', '16+94=011', '97+59=651', '63+87=051', '34+69=301', '82+29=111', '70+73=341', '95+97=291', '62+27=98 ', '59+78=731', '93+36=921', '92+21=311', '67+19=68 ', '95+99=491', '67+90=751', '63+16=97 ', '11+21=23 ', '16+ 9=52 ', '64+21=58 ']\n",
      "32 ['89+81=071', '49+13=26 ', '63+46=901', '28+75=301', '35+98=331', '51+75=621', ' 6+28=43 ', '10+32=24 ', ' 5+78=38 ', '31+50=18 ', '74+57=131', '86+25=111', '97+45=241', '97+28=521', ' 3+80=38 ', '98+12=011', '38+14=25 ', '28+28=65 ', '74+31=501', ' 1+46=74 ', '77+83=061', '21+74=59 ', '26+66=29 ', '80+55=531', '91+92=381', '20+46=66 ', '79+58=731', '83+ 5=88 ', '18+56=47 ', '68+ 2=07 ', ' 0+57=75 ', '37+14=15 ']\n",
      "32 ['33+60=39 ', '34+63=79 ', '24+23=74 ', '11+17=82 ', '14+79=39 ', '26+71=79 ', '59+45=401', '88+16=401', '92+52=441', ' 7+78=58 ', '26+45=17 ', '49+70=911', ' 2+92=49 ', '63+43=601', '52+23=57 ', '59+ 2=16 ', '19+45=46 ', '14+24=83 ', '93+77=071', '70+16=68 ', '83+99=281', ' 8+37=54 ', '47+59=601', '62+85=741', ' 1+87=88 ', '71+10=18 ', '63+76=931', '80+71=151', '20+17=73 ', '93+63=651', '81+94=571', '37+31=86 ']\n",
      "8 ['10+44=45 ', '88+32=021', '40+ 7=74 ', '10+85=59 ', '50+87=731', '40+16=65 ', '75+45=021', '31+78=901']\n"
     ]
    }
   ],
   "source": [
    "dataloader = DataLoader(add_probs, batch_size=32, shuffle=True)\n",
    "\n",
    "for probs in dataloader:\n",
    "    print(len(probs), probs)"
   ]
  },
  {
   "cell_type": "markdown",
   "id": "0945c392",
   "metadata": {},
   "source": [
    "Or just like in our original code, we can bypass using torch's dataset and dataloader framework."
   ]
  },
  {
   "cell_type": "code",
   "execution_count": 97,
   "id": "820e8f74",
   "metadata": {},
   "outputs": [],
   "source": [
    "batch_size = 32\n",
    "block_size = 9\n",
    "\n",
    "def mask(encoded):\n",
    "    encoded[:5] = -1\n",
    "    return encoded\n",
    "\n",
    "    \n",
    "def get_batch():\n",
    "    problems = []\n",
    "    for _ in range(batch_size):\n",
    "        a = np.random.randint(100)\n",
    "        b = np.random.randint(100)\n",
    "        prob = f'{a:2}+{b:2}={str(a+b)[::-1]:4}'\n",
    "        problems.append(torch.tensor(encode(prob)))\n",
    "    x = torch.stack([prob[:block_size] for prob in problems])\n",
    "    y = torch.stack([mask(prob[1:block_size+1]) for prob in problems])\n",
    "    return x, y"
   ]
  },
  {
   "cell_type": "code",
   "execution_count": 98,
   "id": "4490cf99",
   "metadata": {},
   "outputs": [
    {
     "name": "stdout",
     "output_type": "stream",
     "text": [
      "torch.Size([32, 9]) torch.Size([32, 9])\n"
     ]
    }
   ],
   "source": [
    "x, y = get_batch()\n",
    "print(x.shape, y.shape)"
   ]
  },
  {
   "cell_type": "code",
   "execution_count": 99,
   "id": "710b835a",
   "metadata": {},
   "outputs": [
    {
     "data": {
      "text/plain": [
       "tensor([ 9,  4, 10,  5,  3, 11,  7,  4,  1])"
      ]
     },
     "execution_count": 99,
     "metadata": {},
     "output_type": "execute_result"
    }
   ],
   "source": [
    "x[0]"
   ]
  },
  {
   "cell_type": "code",
   "execution_count": 100,
   "id": "0d8f0f0b",
   "metadata": {},
   "outputs": [
    {
     "data": {
      "text/plain": [
       "'94+53=741'"
      ]
     },
     "execution_count": 100,
     "metadata": {},
     "output_type": "execute_result"
    }
   ],
   "source": [
    "decode(x[0].numpy())"
   ]
  },
  {
   "cell_type": "code",
   "execution_count": 101,
   "id": "5f7aef5d",
   "metadata": {},
   "outputs": [
    {
     "data": {
      "text/plain": [
       "'*****741 '"
      ]
     },
     "execution_count": 101,
     "metadata": {},
     "output_type": "execute_result"
    }
   ],
   "source": [
    "decode(y[0].numpy())"
   ]
  },
  {
   "cell_type": "markdown",
   "id": "1c3d2f4a",
   "metadata": {},
   "source": [
    "Finally, the task will become conditioned generation rather than free generation, so the final piece of the code from the previous script that runs after the model is trained:\n",
    "\n",
    "```\n",
    "context = torch.zeros((1, 1), dtype=torch.long).to(device)\n",
    "print(decode(m.generate(context, max_new_tokens=1000)[0].tolist()))\n",
    "\n",
    "```\n",
    "\n",
    "needs to be modified.\n",
    "\n"
   ]
  },
  {
   "cell_type": "code",
   "execution_count": 104,
   "id": "1533005b",
   "metadata": {
    "collapsed": true
   },
   "outputs": [
    {
     "name": "stdout",
     "output_type": "stream",
     "text": [
      "(tensor([[ 7,  4, 10,  2,  8, 11,  2,  0,  1]]), tensor([[ 3,  5, 10,  8,  8, 11,  3,  2,  1]]), tensor([[ 2,  0, 10,  3,  5, 11,  5,  5, 12]]), tensor([[12,  9, 10,  7,  2, 11,  1,  8, 12]]), tensor([[ 2,  3, 10,  6,  3, 11,  6,  8, 12]]), tensor([[ 9,  8, 10,  4,  8, 11,  6,  4,  1]]), tensor([[ 9,  8, 10,  3,  5, 11,  3,  3,  1]]), tensor([[ 8,  1, 10,  9,  5, 11,  6,  7,  1]]), tensor([[ 2,  3, 10,  2,  2, 11,  5,  4, 12]]), tensor([[ 6,  1, 10,  9,  5, 11,  6,  5,  1]]), tensor([[ 3,  6, 10,  1,  1, 11,  7,  4, 12]]), tensor([[ 5,  4, 10,  1,  2, 11,  6,  6, 12]]), tensor([[ 2,  2, 10,  8,  8, 11,  0,  1,  1]]), tensor([[ 9,  8, 10,  2,  9, 11,  7,  2,  1]]), tensor([[ 1,  6, 10,  6,  1, 11,  7,  7, 12]]), tensor([[ 8,  3, 10,  8,  8, 11,  1,  7,  1]]), tensor([[ 8,  5, 10,  1,  2, 11,  7,  9, 12]]), tensor([[ 5,  8, 10,  1,  8, 11,  6,  7, 12]]), tensor([[ 4,  8, 10,  9,  9, 11,  7,  4,  1]]), tensor([[ 1,  1, 10,  6,  0, 11,  1,  7, 12]]), tensor([[ 1,  8, 10,  7,  5, 11,  3,  9, 12]]), tensor([[12,  8, 10,  7,  0, 11,  8,  7, 12]]), tensor([[ 2,  7, 10,  7,  7, 11,  4,  0,  1]]), tensor([[ 9,  4, 10,  5,  1, 11,  5,  4,  1]]), tensor([[ 8,  2, 10,  1,  5, 11,  7,  9, 12]]), tensor([[ 6,  8, 10,  9,  8, 11,  6,  6,  1]]), tensor([[ 1,  1, 10,  2,  4, 11,  5,  3, 12]]), tensor([[ 5,  1, 10,  8,  4, 11,  5,  3,  1]]), tensor([[ 9,  9, 10,  5,  2, 11,  1,  5,  1]]), tensor([[ 2,  2, 10,  1,  5, 11,  7,  3, 12]]), tensor([[ 5,  6, 10,  3,  8, 11,  4,  9, 12]]), tensor([[ 5,  2, 10,  4,  1, 11,  3,  9, 12]]))\n"
     ]
    }
   ],
   "source": [
    "device = 'cpu'\n",
    "context_batch = get_batch()[0].to(device)\n",
    "print(context_batch.split(1, dim=0))\n",
    "# for context in context_batch:\n",
    "#     print(decode(m.generate(context, max_new_tokens=3)[0].tolist()))"
   ]
  },
  {
   "cell_type": "code",
   "execution_count": null,
   "id": "0201a704",
   "metadata": {},
   "outputs": [],
   "source": []
  }
 ],
 "metadata": {
  "kernelspec": {
   "display_name": "Python [conda env:anaconda3-sandbox]",
   "language": "python",
   "name": "conda-env-anaconda3-sandbox-py"
  },
  "language_info": {
   "codemirror_mode": {
    "name": "ipython",
    "version": 3
   },
   "file_extension": ".py",
   "mimetype": "text/x-python",
   "name": "python",
   "nbconvert_exporter": "python",
   "pygments_lexer": "ipython3",
   "version": "3.9.7"
  }
 },
 "nbformat": 4,
 "nbformat_minor": 5
}
